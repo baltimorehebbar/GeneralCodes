{
 "cells": [
  {
   "cell_type": "markdown",
   "metadata": {},
   "source": [
    "# <center> A code to solve jumbled words </center>\n",
    "### By Sachin Hebbar"
   ]
  },
  {
   "cell_type": "markdown",
   "metadata": {},
   "source": [
    "Ordinary jumble solvers determine the length of the word first and iterate over the list of words. However we are going to try a different approach here. We will first determine the length of the word. We will then create a composite value based on the character. The index is calculated by assigning a value to each character, followed by summing up of squares of all character values in that word. We compare the length and the composite value with the same parameters of each word in the entire dictionary. All of the preprocessing of the word dictionary is done beforehand and stored in a pandas dataframe. This approach helps us reduce the list of words to iterate over to a maximum number of 36 words, significantly improving the performance of the algorithm. The code is given below."
   ]
  },
  {
   "cell_type": "code",
   "execution_count": 267,
   "metadata": {},
   "outputs": [],
   "source": [
    "#import all the required packages\n",
    "import pandas as pd\n",
    "import requests\n",
    "import io"
   ]
  },
  {
   "cell_type": "code",
   "execution_count": 268,
   "metadata": {},
   "outputs": [],
   "source": [
    "#download the dictionary from github and import words into a pandas dataframe\n",
    "url=\"https://raw.githubusercontent.com/dwyl/english-words/master/words.txt\"\n",
    "download = requests.get(url).content\n",
    "\n",
    "df = pd.read_table(io.StringIO(download.decode('utf-8')))"
   ]
  },
  {
   "cell_type": "code",
   "execution_count": 269,
   "metadata": {},
   "outputs": [],
   "source": [
    "#add row_id column\n",
    "df['rowId'] = df.index\n",
    "#rename columns\n",
    "df.columns= ['word', 'rowId']\n",
    "#some words in the dictionary are in upper case. Make them lower case\n",
    "df['word'] = df['word'].str.lower()\n",
    "#add a column with word length\n",
    "df['wordlen'] = df['word'].str.len()"
   ]
  },
  {
   "cell_type": "code",
   "execution_count": 270,
   "metadata": {},
   "outputs": [],
   "source": [
    "#function to assign and calculate composite value of a string\n",
    "def wordcomp_calc(new_word):\n",
    "    new_word=str(new_word)\n",
    "    x= 0\n",
    "    for element in new_word:\n",
    "        y=0\n",
    "        if element == '' :y= 1\n",
    "        elif element == '!' : y= 2\n",
    "        elif element == '\"' : y= 3\n",
    "        elif element == '#' : y= 4\n",
    "        elif element == '$' : y= 5\n",
    "        elif element == '%' : y= 6\n",
    "        elif element == '&' : y= 7\n",
    "        elif element == \"''\" : y= 8\n",
    "        elif element == '(' : y= 9\n",
    "        elif element == ')' : y= 10\n",
    "        elif element == '*' : y= 11\n",
    "        elif element == '+' : y= 12\n",
    "        elif element == ',' : y= 13\n",
    "        elif element == '-' : y= 14\n",
    "        elif element == '.' : y= 15\n",
    "        elif element == '/' : y= 16\n",
    "        elif element == '0' : y= 17\n",
    "        elif element == '1' : y= 18\n",
    "        elif element == '2' : y= 19\n",
    "        elif element == '3' : y= 20\n",
    "        elif element == '4' : y= 21\n",
    "        elif element == '5' : y= 22\n",
    "        elif element == '6' : y= 23\n",
    "        elif element == '7' : y= 24\n",
    "        elif element == '8' : y= 25\n",
    "        elif element == '9' : y= 26\n",
    "        elif element == ':' : y= 27\n",
    "        elif element == ';' : y= 28\n",
    "        elif element == '<' : y= 29\n",
    "        elif element == '=' : y= 30\n",
    "        elif element == '>' : y= 31\n",
    "        elif element == '?' : y= 32\n",
    "        elif element == '@' : y= 33\n",
    "        elif element == 'A' : y= 34\n",
    "        elif element == 'B' : y= 35\n",
    "        elif element == 'C' : y= 36\n",
    "        elif element == 'D' : y= 37\n",
    "        elif element == 'E' : y= 38\n",
    "        elif element == 'F' : y= 39\n",
    "        elif element == 'G' : y= 40\n",
    "        elif element == 'H' : y= 41\n",
    "        elif element == 'I' : y= 42\n",
    "        elif element == 'J' : y= 43\n",
    "        elif element == 'K' : y= 44\n",
    "        elif element == 'L' : y= 45\n",
    "        elif element == 'M' : y= 46\n",
    "        elif element == 'N' : y= 47\n",
    "        elif element == 'O' : y= 48\n",
    "        elif element == 'P' : y= 49\n",
    "        elif element == 'Q' : y= 50\n",
    "        elif element == 'R' : y= 51\n",
    "        elif element == 'S' : y= 52\n",
    "        elif element == 'T' : y= 53\n",
    "        elif element == 'U' : y= 54\n",
    "        elif element == 'V' : y= 55\n",
    "        elif element == 'W' : y= 56\n",
    "        elif element == 'X' : y= 57\n",
    "        elif element == 'Y' : y= 58\n",
    "        elif element == 'Z' : y= 59\n",
    "        elif element == '[' : y= 60\n",
    "#       elif element == '\\' : y= 61\n",
    "        elif element == ']' : y= 62\n",
    "        elif element == '^' : y= 63\n",
    "        elif element == '_' : y= 64\n",
    "        elif element == '`' : y= 65\n",
    "        elif element == 'a' : y= 66\n",
    "        elif element == 'b' : y= 67\n",
    "        elif element == 'c' : y= 68\n",
    "        elif element == 'd' : y= 69\n",
    "        elif element == 'e' : y= 70\n",
    "        elif element == 'f' : y= 71\n",
    "        elif element == 'g' : y= 72\n",
    "        elif element == 'h' : y= 73\n",
    "        elif element == 'i' : y= 74\n",
    "        elif element == 'j' : y= 75\n",
    "        elif element == 'k' : y= 76\n",
    "        elif element == 'l' : y= 77\n",
    "        elif element == 'm' : y= 78\n",
    "        elif element == 'n' : y= 79\n",
    "        elif element == 'o' : y= 80\n",
    "        elif element == 'p' : y= 81\n",
    "        elif element == 'q' : y= 82\n",
    "        elif element == 'r' : y= 83\n",
    "        elif element == 's' : y= 84\n",
    "        elif element == 't' : y= 85\n",
    "        elif element == 'u' : y= 86\n",
    "        elif element == 'v' : y= 87\n",
    "        elif element == 'w' : y= 88\n",
    "        elif element == 'x' : y= 89\n",
    "        elif element == 'y' : y= 90\n",
    "        elif element == 'z' : y= 91\n",
    "        elif element == '{' : y= 92\n",
    "        elif element == '|' : y= 93\n",
    "        elif element == '}' : y= 94\n",
    "        elif element == '~' : y= 95\n",
    "        x=x+pow(y, 2)\n",
    "    return x"
   ]
  },
  {
   "cell_type": "code",
   "execution_count": 271,
   "metadata": {},
   "outputs": [],
   "source": [
    "#calculate the composite value of all \n",
    "df['wordcomp'] = df.apply (lambda row: wordcomp_calc(row['word']), axis=1)"
   ]
  },
  {
   "cell_type": "code",
   "execution_count": 272,
   "metadata": {},
   "outputs": [],
   "source": [
    "#function to create a sorted word array\n",
    "def word_array(new_word):\n",
    "    new_word = str(new_word)\n",
    "    arr = []\n",
    "    for element in new_word:\n",
    "        #(element)\n",
    "        arr.append(element)\n",
    "    arr.sort()\n",
    "    return arr"
   ]
  },
  {
   "cell_type": "code",
   "execution_count": 273,
   "metadata": {},
   "outputs": [],
   "source": [
    "#Add a column with sorted word array to dataframe\n",
    "df['wordarray'] = df.apply (lambda row: word_array(row['word']), axis=1)"
   ]
  },
  {
   "cell_type": "code",
   "execution_count": 274,
   "metadata": {},
   "outputs": [],
   "source": [
    "#function to solve the jumble\n",
    "def solve_jumble(jumbled):\n",
    "    jumbled_len = len(jumbled)\n",
    "    jumbled_val = wordcomp_calc(jumbled)\n",
    "    new_df = df.loc[(df['wordlen'] == jumbled_len) & (df['wordcomp'] == jumbled_val)]\n",
    "    new_df_ct = len(new_df.index)\n",
    "    #print(new_df_ct)\n",
    "    jumbled_arr = word_array(jumbled)\n",
    "    #print(jumbled_arr)\n",
    "    \n",
    "    for x in range(new_df_ct):\n",
    "        if new_df.iloc[x]['wordarray'] == jumbled_arr:\n",
    "            print(new_df.iloc[x]['word'])\n",
    "    "
   ]
  },
  {
   "cell_type": "code",
   "execution_count": 275,
   "metadata": {},
   "outputs": [
    {
     "name": "stdout",
     "output_type": "stream",
     "text": [
      "emancipation\n"
     ]
    }
   ],
   "source": [
    "#test the algorithm\n",
    "solve_jumble('pationcieman')"
   ]
  },
  {
   "cell_type": "code",
   "execution_count": null,
   "metadata": {},
   "outputs": [],
   "source": []
  }
 ],
 "metadata": {
  "kernelspec": {
   "display_name": "Python 3",
   "language": "python",
   "name": "python3"
  },
  "language_info": {
   "codemirror_mode": {
    "name": "ipython",
    "version": 3
   },
   "file_extension": ".py",
   "mimetype": "text/x-python",
   "name": "python",
   "nbconvert_exporter": "python",
   "pygments_lexer": "ipython3",
   "version": "3.7.6"
  }
 },
 "nbformat": 4,
 "nbformat_minor": 4
}
