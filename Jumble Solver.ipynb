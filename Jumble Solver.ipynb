{
 "cells": [
  {
   "cell_type": "markdown",
   "metadata": {},
   "source": [
    "# <center> A code to solve jumbled words </center>\n",
    "### By Sachin Hebbar"
   ]
  },
  {
   "cell_type": "markdown",
   "metadata": {},
   "source": [
    "Ordinary jumble solvers determine the length of the word first and iterate over the list of words. However we are going to try a different approach here. We will first determine the length of the word. We will then create a composite value based on the character. The index is calculated by assigning a value to each character, followed by summing up of squares of all character values in that word. We compare the length and the composite value with the same parameters of each word in the entire dictionary. All of the preprocessing of the word dictionary is done beforehand and stored in a pandas dataframe. This approach helps us reduce the list of words to iterate over to a maximum number of 36 words, significantly improving the performance of the algorithm. The code is given below."
   ]
  },
  {
   "cell_type": "code",
   "execution_count": 1,
   "metadata": {},
   "outputs": [],
   "source": [
    "#import all the required packages\n",
    "import pandas as pd\n",
    "import requests\n",
    "import io"
   ]
  },
  {
   "cell_type": "code",
   "execution_count": 2,
   "metadata": {},
   "outputs": [],
   "source": [
    "#download the dictionary from github and import words into a pandas dataframe\n",
    "url=\"https://raw.githubusercontent.com/dwyl/english-words/master/words.txt\"\n",
    "download = requests.get(url).content\n",
    "\n",
    "df = pd.read_table(io.StringIO(download.decode('utf-8')))"
   ]
  },
  {
   "cell_type": "code",
   "execution_count": 3,
   "metadata": {},
   "outputs": [],
   "source": [
    "#add row_id column\n",
    "df['rowId'] = df.index\n",
    "#rename columns\n",
    "df.columns= ['word', 'rowId']\n",
    "#some words in the dictionary are in upper case. Make them lower case\n",
    "df['word'] = df['word'].str.lower()\n",
    "#add a column with word length\n",
    "df['wordlen'] = df['word'].str.len()"
   ]
  },
  {
   "cell_type": "code",
   "execution_count": 4,
   "metadata": {},
   "outputs": [],
   "source": [
    "#function to assign and calculate composite value of a string\n",
    "def wordcomp_calc(new_word):\n",
    "    new_word=str(new_word)\n",
    "    x= 0\n",
    "    for element in new_word:\n",
    "        y=ord(element)\n",
    "        x=x+pow(y, 2)\n",
    "    return x"
   ]
  },
  {
   "cell_type": "code",
   "execution_count": 5,
   "metadata": {},
   "outputs": [],
   "source": [
    "#calculate the composite value of all \n",
    "df['wordcomp'] = df.apply (lambda row: wordcomp_calc(row['word']), axis=1)"
   ]
  },
  {
   "cell_type": "code",
   "execution_count": 6,
   "metadata": {},
   "outputs": [],
   "source": [
    "#function to create a sorted word array\n",
    "def word_array(new_word):\n",
    "    new_word = str(new_word)\n",
    "    arr = []\n",
    "    for element in new_word:\n",
    "        #(element)\n",
    "        arr.append(element)\n",
    "    arr.sort()\n",
    "    return arr"
   ]
  },
  {
   "cell_type": "code",
   "execution_count": 7,
   "metadata": {},
   "outputs": [],
   "source": [
    "#Add a column with sorted word array to dataframe\n",
    "df['wordarray'] = df.apply (lambda row: word_array(row['word']), axis=1)"
   ]
  },
  {
   "cell_type": "code",
   "execution_count": 8,
   "metadata": {},
   "outputs": [],
   "source": [
    "#function to solve the jumble\n",
    "def solve_jumble(jumbled):\n",
    "    jumbled_len = len(jumbled)\n",
    "    jumbled_val = wordcomp_calc(jumbled)\n",
    "    new_df = df.loc[(df['wordlen'] == jumbled_len) & (df['wordcomp'] == jumbled_val)]\n",
    "    new_df_ct = len(new_df.index)\n",
    "    #print(new_df_ct)\n",
    "    jumbled_arr = word_array(jumbled)\n",
    "    #print(jumbled_arr)\n",
    "    \n",
    "    for x in range(new_df_ct):\n",
    "        if new_df.iloc[x]['wordarray'] == jumbled_arr:\n",
    "            print(new_df.iloc[x]['word'])\n",
    "    "
   ]
  },
  {
   "cell_type": "code",
   "execution_count": 9,
   "metadata": {},
   "outputs": [
    {
     "name": "stdout",
     "output_type": "stream",
     "text": [
      "emancipation\n"
     ]
    }
   ],
   "source": [
    "#test the algorithm\n",
    "solve_jumble('pationcieman')"
   ]
  }
 ],
 "metadata": {
  "kernelspec": {
   "display_name": "Python 3",
   "language": "python",
   "name": "python3"
  },
  "language_info": {
   "codemirror_mode": {
    "name": "ipython",
    "version": 3
   },
   "file_extension": ".py",
   "mimetype": "text/x-python",
   "name": "python",
   "nbconvert_exporter": "python",
   "pygments_lexer": "ipython3",
   "version": "3.7.6"
  }
 },
 "nbformat": 4,
 "nbformat_minor": 4
}
